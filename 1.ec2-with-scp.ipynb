{
 "cells": [
  {
   "cell_type": "code",
   "execution_count": null,
   "metadata": {},
   "outputs": [],
   "source": [
    "# how to connect to ec2 with ssh"
   ]
  },
  {
   "cell_type": "code",
   "execution_count": null,
   "metadata": {},
   "outputs": [],
   "source": []
  },
  {
   "cell_type": "markdown",
   "metadata": {},
   "source": [
    "SCP (Secure Copy Protocol):\n",
    "\n",
    "    SCP is a network protocol that uses SSH to securely transfer files between a local host and a remote host or between two remote hosts. SCP ensures that the files are transferred securely using the encryption provided by SSH.\n",
    "    In AWS EC2, SCP is often used to copy files to and from EC2 instances securely. It works in conjunction with SSH to authenticate and encrypt the file transfer process."
   ]
  },
  {
   "cell_type": "code",
   "execution_count": null,
   "metadata": {},
   "outputs": [],
   "source": [
    "#bash terminal\n",
    "\n",
    "#scp -i your-key.pem localfile.txt ec2-user@your-ec2-public-ip:/home/ec2-user/\n"
   ]
  },
  {
   "cell_type": "code",
   "execution_count": null,
   "metadata": {},
   "outputs": [],
   "source": [
    "#example\n",
    "\n",
    "scp -r -i \"urpemkey.pem\" project-folder-name ubuntu@ec2-54..etcamazonaws.com:~/"
   ]
  },
  {
   "cell_type": "code",
   "execution_count": null,
   "metadata": {},
   "outputs": [],
   "source": []
  }
 ],
 "metadata": {
  "language_info": {
   "name": "python"
  }
 },
 "nbformat": 4,
 "nbformat_minor": 2
}

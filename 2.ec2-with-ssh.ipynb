{
 "cells": [
  {
   "cell_type": "code",
   "execution_count": null,
   "metadata": {},
   "outputs": [],
   "source": []
  },
  {
   "cell_type": "markdown",
   "metadata": {},
   "source": [
    "SSH (Secure Shell):\n",
    "\n",
    "    SSH is a network protocol used to securely connect to a remote server or computer over an unsecured network. It provides a secure channel for communication between the client and the server, allowing for remote command-line access, file transfer, and other network services.\n",
    "    In AWS EC2, SSH is commonly used to connect to EC2 instances for management and configuration purposes. Access is typically controlled using SSH key pairs (private and public keys)."
   ]
  },
  {
   "cell_type": "code",
   "execution_count": null,
   "metadata": {},
   "outputs": [],
   "source": [
    "#bash terminal:\n",
    "\n",
    "#ssh -i your-key.pem ec2-user@your-ec2-public-ip\n",
    "\n",
    "#example\n"
   ]
  }
 ],
 "metadata": {
  "language_info": {
   "name": "python"
  }
 },
 "nbformat": 4,
 "nbformat_minor": 2
}

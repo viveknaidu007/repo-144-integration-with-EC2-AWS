{
 "cells": [
  {
   "cell_type": "code",
   "execution_count": null,
   "metadata": {},
   "outputs": [],
   "source": [
    "# got to the folder page in ur pc , where ur .pem and project folder exits "
   ]
  },
  {
   "cell_type": "code",
   "execution_count": null,
   "metadata": {},
   "outputs": [],
   "source": [
    "# go to the addres bar  \n",
    "# type \"cmd\"\n",
    "\n",
    "#and follow below for uplaoding the project folder and connectingt o ec2 instance"
   ]
  },
  {
   "cell_type": "markdown",
   "metadata": {},
   "source": [
    "# uplaoding the proejct folder to the instance"
   ]
  },
  {
   "cell_type": "code",
   "execution_count": null,
   "metadata": {},
   "outputs": [],
   "source": [
    "# uplaoding our peoject folder to ec2 , if need"
   ]
  },
  {
   "cell_type": "markdown",
   "metadata": {},
   "source": [
    "SCP (Secure Copy Protocol):\n",
    "\n",
    "    SCP is a network protocol that uses SSH to securely transfer files between a local host and a remote host or between two remote hosts. SCP ensures that the files are transferred securely using the encryption provided by SSH.\n",
    "    In AWS EC2, SCP is often used to copy files to and from EC2 instances securely. It works in conjunction with SSH to authenticate and encrypt the file transfer process."
   ]
  },
  {
   "cell_type": "code",
   "execution_count": null,
   "metadata": {},
   "outputs": [],
   "source": [
    "#bash terminal\n",
    "\n",
    "#scp -i your-key.pem localfile.txt ec2-user@your-ec2-public-ip:/home/ec2-user/\n"
   ]
  },
  {
   "cell_type": "code",
   "execution_count": null,
   "metadata": {},
   "outputs": [],
   "source": [
    "#example\n",
    "\n",
    "scp -r -i \"urpemkey.pem\" project-folder-name ubuntu@ec2-54..etcamazonaws.com:~/"
   ]
  },
  {
   "cell_type": "markdown",
   "metadata": {},
   "source": []
  },
  {
   "cell_type": "markdown",
   "metadata": {},
   "source": [
    "# connecting to ec2 insatnce"
   ]
  },
  {
   "cell_type": "markdown",
   "metadata": {},
   "source": [
    "SSH (Secure Shell):\n",
    "\n",
    "    SSH is a network protocol used to securely connect to a remote server or computer over an unsecured network. It provides a secure channel for communication between the client and the server, allowing for remote command-line access, file transfer, and other network services.\n",
    "    In AWS EC2, SSH is commonly used to connect to EC2 instances for management and configuration purposes. Access is typically controlled using SSH key pairs (private and public keys)."
   ]
  },
  {
   "cell_type": "code",
   "execution_count": null,
   "metadata": {},
   "outputs": [],
   "source": [
    "#bash terminal:\n",
    "\n",
    "#ssh -i your-key.pem ec2-user@your-ec2-public-ip\n",
    "\n",
    "#example\n"
   ]
  },
  {
   "cell_type": "code",
   "execution_count": null,
   "metadata": {},
   "outputs": [],
   "source": [
    "#real example:\n",
    "\n",
    "// for uplaodng : \"project2\" is project folder name\n",
    "\n",
    "scp -i \"ai-commits.pem\" -r project2 ec2-user@bastion-nlb-f..etc.....4034f.elb.ap-southeast-2.amazonaws.com:~/\n",
    "\n",
    "// for connecting to insatnce :\n",
    "\n",
    "ssh -i \"ai-commits.pem\" ec2-user@bastion-nlb-f..etc..ea4034f.elb.ap-southeast-2.amazonaws.com"
   ]
  }
 ],
 "metadata": {
  "language_info": {
   "name": "python"
  }
 },
 "nbformat": 4,
 "nbformat_minor": 2
}
